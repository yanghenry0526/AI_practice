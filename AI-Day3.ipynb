{
 "cells": [
  {
   "cell_type": "code",
   "execution_count": 41,
   "id": "d9ea5b23",
   "metadata": {},
   "outputs": [],
   "source": [
    "import numpy as np\n",
    "import pandas as pd\n",
    "import matplotlib.pyplot as plt\n",
    "from keras.utils import np_utils\n",
    "\n",
    "from keras.datasets import mnist    #叫出mist資料集"
   ]
  },
  {
   "cell_type": "code",
   "execution_count": 42,
   "id": "880753bd",
   "metadata": {},
   "outputs": [
    {
     "data": {
      "image/png": "[encoded data removed]",
      "text/plain": [
       "<Figure size 144x144 with 1 Axes>"
      ]
     },
     "metadata": {
      "needs_background": "light"
     },
     "output_type": "display_data"
    },
    {
     "name": "stdout",
     "output_type": "stream",
     "text": [
      "1\n"
     ]
    },
    {
     "data": {
      "image/png": "[encoded data removed]",
      "text/plain": [
       "<Figure size 144x144 with 1 Axes>"
      ]
     },
     "metadata": {
      "needs_background": "light"
     },
     "output_type": "display_data"
    },
    {
     "name": "stdout",
     "output_type": "stream",
     "text": [
      "9\n"
     ]
    }
   ],
   "source": [
    "from keras.datasets import mnist\n",
    "\n",
    "(x_train_image,y_train_lable),(x_test_image,y_test_lable) = mnist.load_data()\n",
    "\n",
    "fig = plt.gcf()\n",
    "fig.set_size_inches(2,2)\n",
    "plt.imshow(x_train_image[99] , cmap = 'binary')\n",
    "plt.show()\n",
    "print(y_train_lable[99]) #lable值\n",
    "\n",
    "fig = plt.gcf()\n",
    "fig.set_size_inches(2,2)\n",
    "plt.imshow(x_train_image[19] , cmap = 'binary')\n",
    "plt.show()\n",
    "print(y_train_lable[19]) #lable值"
   ]
  },
  {
   "cell_type": "code",
   "execution_count": 72,
   "id": "03794167",
   "metadata": {},
   "outputs": [
    {
     "name": "stdout",
     "output_type": "stream",
     "text": [
      "Model: \"sequential_28\"\n",
      "_________________________________________________________________\n",
      "Layer (type)                 Output Shape              Param #   \n",
      "=================================================================\n",
      "dense_53 (Dense)             (None, 256)               200960    \n",
      "_________________________________________________________________\n",
      "dense_54 (Dense)             (None, 10)                2570      \n",
      "=================================================================\n",
      "Total params: 203,530\n",
      "Trainable params: 203,530\n",
      "Non-trainable params: 0\n",
      "_________________________________________________________________\n",
      "None\n",
      "Epoch 1/10\n",
      "60/60 - 0s - loss: 0.9635 - accuracy: 0.7703 - val_loss: 0.4519 - val_accuracy: 0.8928\n",
      "Epoch 2/10\n",
      "60/60 - 0s - loss: 0.3935 - accuracy: 0.8982 - val_loss: 0.3197 - val_accuracy: 0.9168\n",
      "Epoch 3/10\n",
      "60/60 - 0s - loss: 0.3064 - accuracy: 0.9172 - val_loss: 0.2723 - val_accuracy: 0.9263\n",
      "Epoch 4/10\n",
      "60/60 - 0s - loss: 0.2623 - accuracy: 0.9276 - val_loss: 0.2417 - val_accuracy: 0.9342\n",
      "Epoch 5/10\n",
      "60/60 - 0s - loss: 0.2359 - accuracy: 0.9344 - val_loss: 0.2252 - val_accuracy: 0.9362\n",
      "Epoch 6/10\n",
      "60/60 - 0s - loss: 0.2167 - accuracy: 0.9398 - val_loss: 0.2074 - val_accuracy: 0.9425\n",
      "Epoch 7/10\n",
      "60/60 - 0s - loss: 0.1996 - accuracy: 0.9445 - val_loss: 0.2015 - val_accuracy: 0.9438\n",
      "Epoch 8/10\n",
      "60/60 - 0s - loss: 0.1866 - accuracy: 0.9478 - val_loss: 0.1905 - val_accuracy: 0.9480\n",
      "Epoch 9/10\n",
      "60/60 - 0s - loss: 0.1784 - accuracy: 0.9500 - val_loss: 0.1803 - val_accuracy: 0.9485\n",
      "Epoch 10/10\n",
      "60/60 - 0s - loss: 0.1684 - accuracy: 0.9522 - val_loss: 0.1792 - val_accuracy: 0.9503\n",
      "313/313 [==============================] - 0s 1ms/step - loss: 0.9484 - accuracy: 0.7248\n",
      "0.9484026432037354\n"
     ]
    }
   ],
   "source": [
    "#資料預處理\n",
    "x_Train = x_train_image.reshape(60000,784).astype('float32')   #轉換成1X784陣列\n",
    "x_Test = x_test_image.reshape(10000,784).astype('float32')   #轉換成1X784陣列\n",
    "\n",
    "x_Train_normalize = x_Train/255  #資料要介於0-1之間\n",
    "x_Test_normalize = x_Test/255\n",
    "\n",
    "y_Train_OneHot = np_utils.to_categorical(y_train_lable)  #傳換成1X10陣列\n",
    "y_Test_OneHot = np_utils.to_categorical(y_test_lable)\n",
    "\n",
    "#神經網路部屬\n",
    "from tensorflow.keras.models import Sequential\n",
    "from tensorflow.keras.layers import Dense\n",
    "\n",
    "model = Sequential()\n",
    "model.add(Dense(units = 256, input_dim=784 , kernel_initializer='normal' , activation='sigmoid'))  #隱藏層256，輸入層784，relu線性觸發\n",
    "model.add(Dense(units = 10 , kernel_initializer='normal' , activation='softmax')) #10個輸入層(first.h5)\n",
    "print(model.summary())\n",
    "\n",
    "#設定訓練\n",
    "model.compile(loss='categorical_crossentropy' , optimizer='adam' , metrics = ['accuracy'])\n",
    "model.fit(x = x_Train, y = y_Train_OneHot, validation_split = 0.2, epochs = 10, batch_size = 800, verbose = 2) #60000*0.2分割，20回合，一次200張\n",
    "\n",
    "scores = model.evaluate(x_Test_normalize , y_Test_OneHot)\n",
    "print(scores[0])\n",
    "\n",
    "model.save('first.h5')"
   ]
  },
  {
   "cell_type": "code",
   "execution_count": 75,
   "id": "bd4b902a",
   "metadata": {},
   "outputs": [
    {
     "name": "stdout",
     "output_type": "stream",
     "text": [
      "313/313 [==============================] - 0s 730us/step - loss: 0.9484 - accuracy: 0.7248\n",
      "0.7247999906539917\n"
     ]
    }
   ],
   "source": [
    "#資料預處理\n",
    "import numpy as np\n",
    "from keras.utils import np_utils\n",
    "from keras.datasets import mnist\n",
    "(x_train_image,y_train_lable),(x_test_image,y_test_lable) = mnist.load_data()\n",
    "\n",
    "\n",
    "x_Test = x_test_image.reshape(10000,784).astype('float32')   #轉換成1X784陣列\n",
    "x_Test_normalize = x_Test/255\n",
    "y_Test_OneHot = np_utils.to_categorical(y_test_lable)\n",
    "\n",
    "from tensorflow.keras.models import load_model\n",
    "model = load_model('first.h5')\n",
    "\n",
    "scores = model.evaluate(x_Test_normalize , y_Test_OneHot)\n",
    "print(scores[1])"
   ]
  },
  {
   "cell_type": "code",
   "execution_count": null,
   "id": "3e0b9cc3",
   "metadata": {},
   "outputs": [],
   "source": []
  }
 ],
 "metadata": {
  "kernelspec": {
   "display_name": "Python 3 (ipykernel)",
   "language": "python",
   "name": "python3"
  },
  "language_info": {
   "codemirror_mode": {
    "name": "ipython",
    "version": 3
   },
   "file_extension": ".py",
   "mimetype": "text/x-python",
   "name": "python",
   "nbconvert_exporter": "python",
   "pygments_lexer": "ipython3",
   "version": "3.7.13"
  }
 },
 "nbformat": 4,
 "nbformat_minor": 5
}
