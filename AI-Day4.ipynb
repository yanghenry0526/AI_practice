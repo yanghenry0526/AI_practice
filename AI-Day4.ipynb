{
 "cells": [
  {
   "cell_type": "code",
   "execution_count": 9,
   "id": "b27585c8",
   "metadata": {},
   "outputs": [
    {
     "name": "stdout",
     "output_type": "stream",
     "text": [
      "WARNING:tensorflow:8 out of the last 8 calls to <function Model.make_predict_function.<locals>.predict_function at 0x00000207A0B0F318> triggered tf.function retracing. Tracing is expensive and the excessive number of tracings could be due to (1) creating @tf.function repeatedly in a loop, (2) passing tensors with different shapes, (3) passing Python objects instead of tensors. For (1), please define your @tf.function outside of the loop. For (2), @tf.function has experimental_relax_shapes=True option that relaxes argument shapes that can avoid unnecessary retracing. For (3), please refer to https://www.tensorflow.org/tutorials/customization/performance#python_or_tensor_args and https://www.tensorflow.org/api_docs/python/tf/function for  more details.\n",
      "It's Black widow\n"
     ]
    },
    {
     "data": {
      "image/png": "[encoded data removed]",
      "text/plain": [
       "<Figure size 432x288 with 1 Axes>"
      ]
     },
     "metadata": {
      "needs_background": "light"
     },
     "output_type": "display_data"
    }
   ],
   "source": [
    "from PIL import Image\n",
    "import matplotlib.pyplot as plt\n",
    "import numpy as np\n",
    "from tensorflow.keras.models import load_model\n",
    "\n",
    "img = Image.open('C:/Users/asus/avenger_test/widow_test.jpg')\n",
    "reIm = img.resize((28,28))\n",
    "im1 = np.array(reIm.convert(\"L\"))   #將圖檔轉為陣列儲存，L轉為灰階陣列\n",
    "\n",
    "plt.imshow(im1 , cmap=plt.get_cmap('gray'))\n",
    "plt.show\n",
    "\n",
    "im1 = im1.reshape(1,28*28)   #將28*28轉乘1*784\n",
    "im1 = im1.astype('float32')/255\n",
    "# print(im1)\n",
    "\n",
    "model = load_model('Avengers.h5')\n",
    "x = model.predict_classes(im1)   #預測最想哪個數字\n",
    "\n",
    "if x == 1 :\n",
    "    print(\"It's Captain\")\n",
    "elif x == 2 :\n",
    "    print(\"It's Spider Man\")\n",
    "else :\n",
    "    print(\"It's Black widow\")\n"
   ]
  },
  {
   "cell_type": "code",
   "execution_count": null,
   "id": "b100b629",
   "metadata": {},
   "outputs": [],
   "source": []
  },
  {
   "cell_type": "code",
   "execution_count": null,
   "id": "30696078",
   "metadata": {},
   "outputs": [],
   "source": []
  },
  {
   "cell_type": "code",
   "execution_count": null,
   "id": "b2973683",
   "metadata": {},
   "outputs": [],
   "source": []
  }
 ],
 "metadata": {
  "kernelspec": {
   "display_name": "Python 3 (ipykernel)",
   "language": "python",
   "name": "python3"
  },
  "language_info": {
   "codemirror_mode": {
    "name": "ipython",
    "version": 3
   },
   "file_extension": ".py",
   "mimetype": "text/x-python",
   "name": "python",
   "nbconvert_exporter": "python",
   "pygments_lexer": "ipython3",
   "version": "3.7.13"
  }
 },
 "nbformat": 4,
 "nbformat_minor": 5
}
